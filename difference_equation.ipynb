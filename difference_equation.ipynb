{
 "cells": [
  {
   "cell_type": "markdown",
   "metadata": {},
   "source": [
    "# Difference Equation using Convulution\n",
    "\n",
    "$$ y(n) = 0.3x(n) + 0.4x(n-1) + 0.3x(n-2) $$"
   ]
  },
  {
   "cell_type": "code",
   "execution_count": 1,
   "metadata": {},
   "outputs": [],
   "source": [
    "import numpy as np \n",
    "import matplotlib.pyplot as plt\n"
   ]
  },
  {
   "cell_type": "code",
   "execution_count": 14,
   "metadata": {},
   "outputs": [],
   "source": [
    "def convolve(x, h):\n",
    "    len_x = len(x)\n",
    "    len_h = len(h)\n",
    "    len_y = len_x + len_h - 1\n",
    "\n",
    "    y = [0] * len_y\n",
    "\n",
    "    for n in range(len_y):\n",
    "        for k in range(len_x):\n",
    "            if (n-k >= 0 and n-k < len_h):\n",
    "                y[n] += x[k] * h[n-k]\n",
    "    return y"
   ]
  },
  {
   "cell_type": "code",
   "execution_count": 15,
   "metadata": {},
   "outputs": [
    {
     "name": "stdout",
     "output_type": "stream",
     "text": [
      "y(n) =  [0.3, 1.0, 2.0, 3.0, 4.0, 3.2, 1.5]\n"
     ]
    }
   ],
   "source": [
    "x = np.array([1, 2, 3, 4, 5])\n",
    "h = np.array([0.3, 0.4, 0.3])\n",
    "y = convolve(x, h)\n",
    "\n",
    "print('y(n) = ', y)"
   ]
  }
 ],
 "metadata": {
  "kernelspec": {
   "display_name": "env",
   "language": "python",
   "name": "python3"
  },
  "language_info": {
   "codemirror_mode": {
    "name": "ipython",
    "version": 3
   },
   "file_extension": ".py",
   "mimetype": "text/x-python",
   "name": "python",
   "nbconvert_exporter": "python",
   "pygments_lexer": "ipython3",
   "version": "3.10.12"
  }
 },
 "nbformat": 4,
 "nbformat_minor": 2
}

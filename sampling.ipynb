{
 "cells": [
  {
   "cell_type": "markdown",
   "metadata": {},
   "source": [
    "1. Write a python program for generating a composite signal (you could use sine or cosine waves). The parameters including the signal frequencies of 40 Hz, 80 Hz, 160 Hz with the amplitudes of 10, 20, and 40 respectively, and the signal length should be limited to 512 in samples.\n",
    "2. Plot the generated signal.\n",
    "3. Do standard sampling by following the Nyquist rate.\n",
    "4. Perform under sampling and over sampling too. Use Subplot function to show the original, sampled, under sampled, and over sampled signal.\n",
    "5. Then perform N=512 point DFT, show the magnitude and phase spectrum."
   ]
  },
  {
   "cell_type": "code",
   "execution_count": 2,
   "metadata": {},
   "outputs": [],
   "source": [
    "import numpy as np\n",
    "import matplotlib.pyplot as plt\n",
    "import cmath\n",
    "import math"
   ]
  },
  {
   "cell_type": "code",
   "execution_count": 3,
   "metadata": {},
   "outputs": [
    {
     "data": {
      "text/plain": [
       "<Figure size 1200x800 with 0 Axes>"
      ]
     },
     "execution_count": 3,
     "metadata": {},
     "output_type": "execute_result"
    },
    {
     "data": {
      "text/plain": [
       "<Figure size 1200x800 with 0 Axes>"
      ]
     },
     "metadata": {},
     "output_type": "display_data"
    }
   ],
   "source": [
    "fs = 512\n",
    "t = np.arange(0, 1, 1/fs)\n",
    "\n",
    "x1 = 10*np.sin(2*np.pi*40*t)\n",
    "x2 = 20*np.sin(2*np.pi*80*t)\n",
    "x3 = 40*np.sin(2*np.pi*160*t)\n",
    "\n",
    "x = x1+x2+x3\n",
    "\n",
    "plt.figure(figsize=(12, 8))\n",
    "\n"
   ]
  }
 ],
 "metadata": {
  "kernelspec": {
   "display_name": "env",
   "language": "python",
   "name": "python3"
  },
  "language_info": {
   "codemirror_mode": {
    "name": "ipython",
    "version": 3
   },
   "file_extension": ".py",
   "mimetype": "text/x-python",
   "name": "python",
   "nbconvert_exporter": "python",
   "pygments_lexer": "ipython3",
   "version": "3.10.12"
  }
 },
 "nbformat": 4,
 "nbformat_minor": 2
}
